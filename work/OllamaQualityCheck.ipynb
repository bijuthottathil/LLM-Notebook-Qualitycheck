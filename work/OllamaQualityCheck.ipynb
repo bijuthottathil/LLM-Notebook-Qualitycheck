{
 "cells": [
  {
   "cell_type": "code",
   "execution_count": 1,
   "id": "3c68bbfe-a8fb-4c6c-8815-81e3d9374984",
   "metadata": {
    "tags": []
   },
   "outputs": [],
   "source": [
    "from pyspark.sql import SparkSession\n",
    "import requests\n",
    "import json\n",
    "\n",
    "# Initialize Spark\n",
    "spark = SparkSession.builder.appName(\"DataQualityCheck\").getOrCreate()"
   ]
  },
  {
   "cell_type": "code",
   "execution_count": 2,
   "id": "013a45e3-311a-437b-af98-90f9f086807c",
   "metadata": {
    "tags": []
   },
   "outputs": [
    {
     "name": "stdout",
     "output_type": "stream",
     "text": [
      "\n",
      "=== Raw Spark Data ===\n",
      "+-------+----+\n",
      "|   name| age|\n",
      "+-------+----+\n",
      "|  Alice|  25|\n",
      "|    Bob|  -5|\n",
      "|Charlie| 130|\n",
      "|   Dana|NULL|\n",
      "+-------+----+\n",
      "\n",
      "\n",
      "Sending to Ollama:\n",
      " Please check the following records for data quality issues, especially focusing on negative ages, missing values, or outliers (age < 0 or age > 120). Print names with age Null. Provide a brief assessment:\n",
      "{\"name\": \"Bob\", \"age\": -5}\n",
      "{\"name\": \"Charlie\", \"age\": 130}\n",
      "{\"name\": \"Dana\", \"age\": null}\n",
      "\n",
      "\n",
      "=== Ollama Response (Quality Report) ===\n",
      " Sure, I'd be happy to help you check the data quality of these records! Here's my assessment:\n",
      "\n",
      "1. {\"name\": \"Bob\", \"age\": -5}:\n",
      "\t* Data quality issue: negative age value. This is an outlier and could indicate a data entry error.\n",
      "\t* Assessment: High risk, as this record has a clearly incorrect age value that needs to be corrected.\n",
      "2. {\"name\": \"Charlie\", \"age\": 130}:\n",
      "\t* Data quality issue: extreme positive age value. This is an outlier and could indicate a data entry error or a mistake in calculations.\n",
      "\t* Assessment: High risk, as this record has an unusually high age value that needs to be investigated and possibly corrected.\n",
      "3. {\"name\": \"Dana\", \"age\": null}:\n",
      "\t* Data quality issue: missing age value. This could indicate a data entry error or a lack of information.\n",
      "\t* Assessment: Medium risk, as the absence of an age value may indicate a minor issue that can be easily resolved by obtaining the correct information.\n",
      "\n",
      "Based on my assessment, I would recommend taking the following actions:\n",
      "\n",
      "1. Correct the negative age value for \"Bob\" to ensure accurate data entry.\n",
      "2. Investigate and possibly correct the extreme positive age value for \"Charlie\" to ensure accuracy.\n",
      "3. Obtain the missing age value for \"Dana\" to ensure complete and accurate data entry.\n"
     ]
    }
   ],
   "source": [
    "from pyspark.sql import SparkSession\n",
    "import requests\n",
    "import json\n",
    "\n",
    "# Initialize Spark\n",
    "spark = SparkSession.builder.appName(\"DataQualityCheck\").getOrCreate()\n",
    "\n",
    "# Sample Spark DataFrame\n",
    "data = [(\"Alice\", 25), (\"Bob\", -5), (\"Charlie\", 130), (\"Dana\", None)]\n",
    "columns = [\"name\", \"age\"]\n",
    "df = spark.createDataFrame(data, columns)\n",
    "\n",
    "# Show records (for logging)\n",
    "print(\"\\n=== Raw Spark Data ===\")\n",
    "df.show()\n",
    "\n",
    "# Collect only minimal records: filter suspicious ones\n",
    "bad_records = df.filter(\n",
    "    (df.age < 0) | (df.age > 120) | (df.age.isNull())\n",
    ")\n",
    "\n",
    "# Collect suspicious records to Python list (should be small)\n",
    "records = [row.asDict() for row in bad_records.collect()]\n",
    "\n",
    "if not records:\n",
    "    print(\"\\n✅ No suspicious records found. Data looks good.\")\n",
    "else:\n",
    "    # Prepare a clear prompt for Ollama\n",
    "    prompt_text = (\n",
    "        \"Please check the following records for data quality issues, \"\n",
    "        \"especially focusing on negative ages, missing values, or outliers \"\n",
    "        \"(age < 0 or age > 120). Print names with age Null. Provide a brief assessment:\\n\"\n",
    "    )\n",
    "    for row in records:\n",
    "        prompt_text += json.dumps(row) + \"\\n\"\n",
    "\n",
    "    print(\"\\nSending to Ollama:\\n\", prompt_text)\n",
    "\n",
    "    # Call local Ollama API\n",
    "    ollama_url = \"http://host.docker.internal:11434/api/generate\"\n",
    "    payload = {\n",
    "        \"model\": \"llama2\",\n",
    "        \"prompt\": prompt_text,\n",
    "        \"stream\": False\n",
    "    }\n",
    "\n",
    "    response = requests.post(ollama_url, json=payload)\n",
    "    if response.ok:\n",
    "        result = response.json()\n",
    "        print(\"\\n=== Ollama Response (Quality Report) ===\\n\", result.get(\"response\"))\n",
    "    else:\n",
    "        print(\"\\n❌ Failed to get response from Ollama:\", response.text)\n",
    "\n",
    "spark.stop()"
   ]
  },
  {
   "cell_type": "code",
   "execution_count": null,
   "id": "7f532dee-0386-44b1-aada-8d08686fd762",
   "metadata": {},
   "outputs": [],
   "source": []
  }
 ],
 "metadata": {
  "kernelspec": {
   "display_name": "Python 3 (ipykernel)",
   "language": "python",
   "name": "python3"
  },
  "language_info": {
   "codemirror_mode": {
    "name": "ipython",
    "version": 3
   },
   "file_extension": ".py",
   "mimetype": "text/x-python",
   "name": "python",
   "nbconvert_exporter": "python",
   "pygments_lexer": "ipython3",
   "version": "3.11.6"
  }
 },
 "nbformat": 4,
 "nbformat_minor": 5
}
